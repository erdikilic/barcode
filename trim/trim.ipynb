{
 "cells": [
  {
   "cell_type": "code",
   "execution_count": 1,
   "metadata": {},
   "outputs": [],
   "source": [
    "import pandas as pd\n",
    "\n",
    "from Bio import SeqIO\n",
    "from Bio.Seq import Seq"
   ]
  },
  {
   "cell_type": "code",
   "execution_count": 2,
   "metadata": {},
   "outputs": [],
   "source": [
    "class Trim:\n",
    "    def __init__(self,main_fastq, barcode_fasta, length, output_dir, file_name):\n",
    "        self.main_fastq = main_fastq\n",
    "        self.barcode_fasta = barcode_fasta\n",
    "        self.length = length\n",
    "        self.output_dir = output_dir\n",
    "        self.file_name = file_name\n",
    "\n",
    "    def main_reader(self):\n",
    "        n = []\n",
    "        for record in SeqIO.parse(self.main_fastq, \"fastq\"):\n",
    "            n.append(str(record.seq))\n",
    "        return n\n",
    "\n",
    "    def barcode_reader(self):\n",
    "        barcodes = []\n",
    "        for record in SeqIO.parse(self.barcode_fasta, \"fasta\"):\n",
    "            barcodes.append(str(record.seq))\n",
    "        return barcodes\n",
    "        \n",
    "    def trimmer(self):\n",
    "        readed_main = self.main_reader()\n",
    "        readed_barcodes = self.barcode_reader()\n",
    "\n",
    "        trimmed = []\n",
    "        for seq in readed_main:\n",
    "            for barcode in readed_barcodes:\n",
    "                index = seq.find(barcode)\n",
    "                if not index == -1:\n",
    "                    length = self.length\n",
    "                    trimmed.append(seq[index:index + length])\n",
    "        return trimmed\n",
    "\n",
    "    def fasta_writer(self):\n",
    "        trim = self.trimmer()\n",
    "        path_file = self.output_dir + self.file_name\n",
    "        file = open(path_file, 'w+')\n",
    "        out = '\\n'.join(['>line_' + str(i+1) + \"\\n\" + j for i,j in enumerate(trim)])\n",
    "        file.write(out)\n",
    "        file.close()    \n"
   ]
  },
  {
   "cell_type": "code",
   "execution_count": 3,
   "metadata": {},
   "outputs": [],
   "source": [
    "args = {\n",
    "    'main_fastq': \"/mnt/c/Users/pc/Downloads/barcod/qc_processed_barcode_1/N70_r1_qc_processed.fastq\",\n",
    "    'barcode_fasta': \"/mnt/c/Users/pc/Downloads/barcod/qc_processed_barcode_1/b14.fasta\",\n",
    "    'output_dir': \"/mnt/c/Users/pc/Downloads/barcod/qc_processed_barcode_1/\",\n",
    "    'file_name': 'trimmed.fasta',\n",
    "    'length' : 48\n",
    "    }\n",
    "\n",
    "result = Trim(**args)"
   ]
  },
  {
   "cell_type": "code",
   "execution_count": 4,
   "metadata": {},
   "outputs": [],
   "source": [
    "result.fasta_writer()"
   ]
  },
  {
   "cell_type": "code",
   "execution_count": 5,
   "metadata": {},
   "outputs": [],
   "source": [
    "trimmonic = 1739877\n",
    "\n",
    "my_trim = 1567482"
   ]
  }
 ],
 "metadata": {
  "interpreter": {
   "hash": "916dbcbb3f70747c44a77c7bcd40155683ae19c65e1c03b4aa3499c5328201f1"
  },
  "kernelspec": {
   "display_name": "Python 3.8.10 64-bit",
   "language": "python",
   "name": "python3"
  },
  "language_info": {
   "codemirror_mode": {
    "name": "ipython",
    "version": 3
   },
   "file_extension": ".py",
   "mimetype": "text/x-python",
   "name": "python",
   "nbconvert_exporter": "python",
   "pygments_lexer": "ipython3",
   "version": "3.8.10"
  },
  "orig_nbformat": 4
 },
 "nbformat": 4,
 "nbformat_minor": 2
}
