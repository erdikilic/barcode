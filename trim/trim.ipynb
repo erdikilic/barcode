{
 "cells": [
  {
   "cell_type": "code",
   "execution_count": 1,
   "metadata": {},
   "outputs": [],
   "source": [
    "import pandas as pd\n",
    "\n",
    "from Bio import SeqIO\n",
    "from Bio.Seq import Seq"
   ]
  },
  {
   "cell_type": "code",
   "execution_count": 2,
   "metadata": {},
   "outputs": [],
   "source": [
    "class Trim:\n",
    "    def __init__(self,main_fastq, barcode_fasta, length, output_dir, file_name):\n",
    "        self.main_fastq = main_fastq\n",
    "        self.barcode_fasta = barcode_fasta\n",
    "        self.length = length\n",
    "        self.output_dir = output_dir\n",
    "        self.file_name = file_name\n",
    "\n",
    "    def main_reader(self):\n",
    "        n = []\n",
    "        for record in SeqIO.parse(self.main_fastq, \"fastq\"):\n",
    "            n.append(str(record.seq))\n",
    "        return n\n",
    "\n",
    "    def barcode_reader(self):\n",
    "        barcodes = []\n",
    "        for record in SeqIO.parse(self.barcode_fasta, \"fasta\"):\n",
    "            barcodes.append(str(record.seq))\n",
    "        return barcodes\n",
    "        \n",
    "    def trimmer(self):\n",
    "        readed_main = self.main_reader()\n",
    "        readed_barcodes = self.barcode_reader()\n",
    "\n",
    "        trimmed = []\n",
    "        for seq in readed_main:\n",
    "            for barcode in readed_barcodes:\n",
    "                index = seq.find(barcode)\n",
    "                if not index == -1:\n",
    "                    length = self.length\n",
    "                    trimmed.append(seq[index:index + length])\n",
    "        return trimmed\n",
    "\n",
    "    def fasta_writer(self):\n",
    "        trim = self.trimmer()\n",
    "        path_file = self.output_dir + self.file_name\n",
    "        file = open(path_file, 'w+')\n",
    "        out = '\\n'.join(['>line_' + str(i+1) + \"\\n\" + j for i,j in enumerate(trim)])\n",
    "        file.write(out)\n",
    "        file.close()    \n"
   ]
  },
  {
   "cell_type": "code",
   "execution_count": 3,
   "metadata": {},
   "outputs": [],
   "source": [
    "args = {\n",
    "    'main_fastq': \"/mnt/c/Users/pc/Downloads/barcod/qc_processed_barcode_1/N70_r1_qc_processed.fastq\",\n",
    "    'barcode_fasta': \"/mnt/c/Users/pc/Downloads/barcod/qc_processed_barcode_1/b14.fasta\",\n",
    "    'output_dir': \"/mnt/c/Users/pc/Downloads/barcod/qc_processed_barcode_1/\",\n",
    "    'file_name': 'trimmed.fasta',\n",
    "    'length' : 48\n",
    "    }\n",
    "\n",
    "result = Trim(**args)"
   ]
  },
  {
   "cell_type": "code",
   "execution_count": 4,
   "metadata": {},
   "outputs": [],
   "source": [
    "result.fasta_writer()"
   ]
  },
  {
   "cell_type": "code",
   "execution_count": 5,
   "metadata": {},
   "outputs": [],
   "source": [
    "trimmonic = 1739877\n",
    "\n",
    "my_trim = 1567482"
   ]
  },
  {
   "cell_type": "code",
   "execution_count": 8,
   "metadata": {},
   "outputs": [],
   "source": [
    "from collections import Counter \n",
    "\n",
    "def eda(list):\n",
    "    size = []\n",
    "    for i in list:\n",
    "        size.append(len(i))\n",
    "\n",
    "    counts = Counter(size)\n",
    "\n",
    "    return sorted(counts.items(), key=lambda i:i[1], reverse=True)\n",
    "\n",
    "count_dict = eda(result.main_reader())"
   ]
  },
  {
   "cell_type": "code",
   "execution_count": 16,
   "metadata": {},
   "outputs": [
    {
     "data": {
      "text/plain": [
       "[(147, 1570975),\n",
       " (146, 99795),\n",
       " (151, 20185),\n",
       " (145, 12717),\n",
       " (148, 11352),\n",
       " (150, 5719),\n",
       " (143, 2986),\n",
       " (149, 2914),\n",
       " (144, 2574),\n",
       " (54, 1776),\n",
       " (141, 1372),\n",
       " (139, 799),\n",
       " (142, 756),\n",
       " (135, 615),\n",
       " (133, 560),\n",
       " (137, 537),\n",
       " (132, 425),\n",
       " (131, 351),\n",
       " (114, 313),\n",
       " (136, 311),\n",
       " (134, 296),\n",
       " (128, 273),\n",
       " (138, 260),\n",
       " (124, 237),\n",
       " (127, 236)]"
      ]
     },
     "execution_count": 16,
     "metadata": {},
     "output_type": "execute_result"
    }
   ],
   "source": [
    "count_dict[:25]"
   ]
  },
  {
   "cell_type": "code",
   "execution_count": null,
   "metadata": {},
   "outputs": [],
   "source": []
  }
 ],
 "metadata": {
  "interpreter": {
   "hash": "916dbcbb3f70747c44a77c7bcd40155683ae19c65e1c03b4aa3499c5328201f1"
  },
  "kernelspec": {
   "display_name": "Python 3.8.10 64-bit",
   "language": "python",
   "name": "python3"
  },
  "language_info": {
   "codemirror_mode": {
    "name": "ipython",
    "version": 3
   },
   "file_extension": ".py",
   "mimetype": "text/x-python",
   "name": "python",
   "nbconvert_exporter": "python",
   "pygments_lexer": "ipython3",
   "version": "3.8.10"
  },
  "orig_nbformat": 4
 },
 "nbformat": 4,
 "nbformat_minor": 2
}
