{
 "cells": [
  {
   "cell_type": "code",
   "execution_count": 1,
   "id": "ec947552",
   "metadata": {},
   "outputs": [],
   "source": [
    "import os\n",
    "import matplotlib.pyplot as plt\n",
    "plt.style.use(\"ggplot\")\n",
    "\n",
    "import pandas as pd"
   ]
  },
  {
   "cell_type": "code",
   "execution_count": 2,
   "id": "d852faf9",
   "metadata": {},
   "outputs": [],
   "source": [
    "path = '/mnt/c/Users/pc/Downloads/barcod/quant.sf'"
   ]
  },
  {
   "cell_type": "code",
   "execution_count": 3,
   "id": "b9e95c8b",
   "metadata": {},
   "outputs": [],
   "source": [
    "df = pd.read_table(path)"
   ]
  },
  {
   "cell_type": "code",
   "execution_count": 4,
   "id": "ce2d35c9",
   "metadata": {},
   "outputs": [
    {
     "data": {
      "text/html": [
       "<div>\n",
       "<style scoped>\n",
       "    .dataframe tbody tr th:only-of-type {\n",
       "        vertical-align: middle;\n",
       "    }\n",
       "\n",
       "    .dataframe tbody tr th {\n",
       "        vertical-align: top;\n",
       "    }\n",
       "\n",
       "    .dataframe thead th {\n",
       "        text-align: right;\n",
       "    }\n",
       "</style>\n",
       "<table border=\"1\" class=\"dataframe\">\n",
       "  <thead>\n",
       "    <tr style=\"text-align: right;\">\n",
       "      <th></th>\n",
       "      <th>Name</th>\n",
       "      <th>Length</th>\n",
       "      <th>EffectiveLength</th>\n",
       "      <th>TPM</th>\n",
       "      <th>NumReads</th>\n",
       "    </tr>\n",
       "  </thead>\n",
       "  <tbody>\n",
       "    <tr>\n",
       "      <th>0</th>\n",
       "      <td>1</td>\n",
       "      <td>48</td>\n",
       "      <td>48.0</td>\n",
       "      <td>0.0</td>\n",
       "      <td>0.0</td>\n",
       "    </tr>\n",
       "    <tr>\n",
       "      <th>1</th>\n",
       "      <td>2</td>\n",
       "      <td>48</td>\n",
       "      <td>48.0</td>\n",
       "      <td>0.0</td>\n",
       "      <td>0.0</td>\n",
       "    </tr>\n",
       "    <tr>\n",
       "      <th>2</th>\n",
       "      <td>3</td>\n",
       "      <td>48</td>\n",
       "      <td>48.0</td>\n",
       "      <td>0.0</td>\n",
       "      <td>0.0</td>\n",
       "    </tr>\n",
       "    <tr>\n",
       "      <th>3</th>\n",
       "      <td>4</td>\n",
       "      <td>48</td>\n",
       "      <td>48.0</td>\n",
       "      <td>0.0</td>\n",
       "      <td>0.0</td>\n",
       "    </tr>\n",
       "    <tr>\n",
       "      <th>4</th>\n",
       "      <td>5</td>\n",
       "      <td>48</td>\n",
       "      <td>48.0</td>\n",
       "      <td>0.0</td>\n",
       "      <td>0.0</td>\n",
       "    </tr>\n",
       "  </tbody>\n",
       "</table>\n",
       "</div>"
      ],
      "text/plain": [
       "   Name  Length  EffectiveLength  TPM  NumReads\n",
       "0     1      48             48.0  0.0       0.0\n",
       "1     2      48             48.0  0.0       0.0\n",
       "2     3      48             48.0  0.0       0.0\n",
       "3     4      48             48.0  0.0       0.0\n",
       "4     5      48             48.0  0.0       0.0"
      ]
     },
     "execution_count": 4,
     "metadata": {},
     "output_type": "execute_result"
    }
   ],
   "source": [
    "df.head()"
   ]
  },
  {
   "cell_type": "code",
   "execution_count": 5,
   "id": "a146e077",
   "metadata": {},
   "outputs": [],
   "source": [
    "counts = sorted(list(df['NumReads']), reverse=True)"
   ]
  },
  {
   "cell_type": "code",
   "execution_count": 6,
   "id": "d2f19f25",
   "metadata": {},
   "outputs": [],
   "source": [
    "plt.bar(range(len(counts)), counts)\n",
    "plt.title('N70 Barcode')\n",
    "plt.ylabel('Reads')\n",
    "plt.xticks([])\n",
    "plt.ylim(0, 3000)\n",
    "\n",
    "#plt.gca().yaxis.set_major_formatter(mtick.FormatStrFormatter('%\n",
    "plt.save('barcode.png')"
   ]
  },
  {
   "cell_type": "code",
   "execution_count": null,
   "id": "dd51de09",
   "metadata": {},
   "outputs": [],
   "source": []
  }
 ],
 "metadata": {
  "kernelspec": {
   "display_name": "Python 3 (ipykernel)",
   "language": "python",
   "name": "python3"
  },
  "language_info": {
   "codemirror_mode": {
    "name": "ipython",
    "version": 3
   },
   "file_extension": ".py",
   "mimetype": "text/x-python",
   "name": "python",
   "nbconvert_exporter": "python",
   "pygments_lexer": "ipython3",
   "version": "3.8.10"
  }
 },
 "nbformat": 4,
 "nbformat_minor": 5
}
