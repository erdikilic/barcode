{
 "cells": [
  {
   "cell_type": "code",
   "execution_count": 10,
   "id": "ec947552",
   "metadata": {},
   "outputs": [],
   "source": [
    "import os\n",
    "import matplotlib.pyplot as plt\n",
    "plt.style.use(\"ggplot\")"
   ]
  },
  {
   "cell_type": "code",
   "execution_count": 2,
   "id": "722475ca",
   "metadata": {},
   "outputs": [],
   "source": [
    "path = '/mnt/c/Users/pc/Downloads/qc_processed_barcode_1/N70_r1_qc_processed/Reads/'\n",
    "\n",
    "files = os.listdir(path)"
   ]
  },
  {
   "cell_type": "code",
   "execution_count": 3,
   "id": "5ede8486",
   "metadata": {},
   "outputs": [],
   "source": [
    "merge = []\n",
    "\n",
    "for i in files:\n",
    "    reader = open(path + i, 'r').read()\n",
    "    file = eval(reader)\n",
    "    merge.append(list(file.values()))"
   ]
  },
  {
   "cell_type": "code",
   "execution_count": 4,
   "id": "e176f2b9",
   "metadata": {},
   "outputs": [
    {
     "data": {
      "text/plain": [
       "594073"
      ]
     },
     "execution_count": 4,
     "metadata": {},
     "output_type": "execute_result"
    }
   ],
   "source": [
    "data = [a for b in merge for a in b]\n",
    "\n",
    "len(data)"
   ]
  },
  {
   "cell_type": "code",
   "execution_count": 5,
   "id": "4b8e776f",
   "metadata": {},
   "outputs": [],
   "source": [
    "sort = sorted(data, reverse=True)"
   ]
  },
  {
   "cell_type": "code",
   "execution_count": 11,
   "id": "48f7833c",
   "metadata": {},
   "outputs": [
    {
     "data": {
      "image/png": "[encoded data removed]",
      "text/plain": [
       "<Figure size 432x288 with 1 Axes>"
      ]
     },
     "metadata": {},
     "output_type": "display_data"
    }
   ],
   "source": [
    "plt.bar(range(len(sort[:20000])), sort[:20000])\n",
    "plt.title('N70 Barcode')\n",
    "plt.ylabel('Reads')\n",
    "plt.xticks([])\n",
    "\n",
    "#plt.gca().yaxis.set_major_formatter(mtick.FormatStrFormatter('%.2e'))\n",
    "\n",
    "plt.show()"
   ]
  },
  {
   "cell_type": "code",
   "execution_count": null,
   "id": "ca71c799",
   "metadata": {},
   "outputs": [],
   "source": []
  }
 ],
 "metadata": {
  "kernelspec": {
   "display_name": "Python 3 (ipykernel)",
   "language": "python",
   "name": "python3"
  },
  "language_info": {
   "codemirror_mode": {
    "name": "ipython",
    "version": 3
   },
   "file_extension": ".py",
   "mimetype": "text/x-python",
   "name": "python",
   "nbconvert_exporter": "python",
   "pygments_lexer": "ipython3",
   "version": "3.8.10"
  }
 },
 "nbformat": 4,
 "nbformat_minor": 5
}
