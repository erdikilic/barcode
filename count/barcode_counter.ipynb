{
 "cells": [
  {
   "cell_type": "code",
   "execution_count": 41,
   "metadata": {},
   "outputs": [],
   "source": [
    "from Bio import SeqIO\n",
    "from Bio.Seq import Seq\n",
    "\n",
    "from tqdm import tqdm"
   ]
  },
  {
   "cell_type": "code",
   "execution_count": 46,
   "metadata": {},
   "outputs": [],
   "source": [
    "class BarcodeCounter:\n",
    "    def __init__(self, trimmed_forward, trimmed_reverse, bc14, bc30, linker='TGGT'):\n",
    "        self.trimmed_forward = trimmed_forward\n",
    "        self.trimmed_reverse = trimmed_reverse\n",
    "        self.bc14 = bc14\n",
    "        self.bc30 = bc30\n",
    "        self.linker = linker\n",
    "\n",
    "    def fasta_reader(self, fasta):\n",
    "        \"\"\"\n",
    "        Reads a fasta file and returns a list of sequences\n",
    "        \n",
    "        :param fasta: the fasta file containing the sequences\n",
    "        :return: A list of sequences.\n",
    "        \"\"\"\n",
    "        n = []\n",
    "        for record in SeqIO.parse(fasta , \"fasta\"):\n",
    "            n.append(str(record.seq))\n",
    "        return n\n",
    "    \n",
    "    def reverse_fix(self):\n",
    "        \"\"\"\n",
    "        Reads a reverse fasta file and returns a list of complemented seqeunce\n",
    "\n",
    "        :return: A list of the reverse complement of the trimmed reads.\n",
    "        \"\"\"\n",
    "        reverse_fasta = self.fasta_reader(self.trimmed_reverse)\n",
    "\n",
    "        corrected = []\n",
    "        for reads in reverse_fasta:\n",
    "            corrected.append(str(Seq(reads).complement()))\n",
    "        return corrected\n",
    "\n",
    "    def merger(self):\n",
    "        \"\"\"\n",
    "        The function takes the trimmed forward and reverse reads and merges them into one list\n",
    "\n",
    "        :return: A list of tuples.\n",
    "        \"\"\"\n",
    "        forward_fasta = self.fasta_reader(self.trimmed_forward)\n",
    "        reverse_fasta = self.reverse_fix()\n",
    "        \n",
    "        merged = [*forward_fasta, *reverse_fasta]\n",
    "        return merged\n",
    "        \n",
    "    def barcode_creater(self):\n",
    "        \"\"\"\n",
    "        The function takes in two barcodes and concatenates them with the linker sequence\n",
    "        Creates 48 bp barcodes\n",
    "\n",
    "        :return: A list of barcodes with the linker sequence added to the end of each\n",
    "        \"\"\"\n",
    "        bp_14 = self.fasta_reader(self.bc14)\n",
    "        bp_30 = self.fasta_reader(self.bc30)\n",
    "\n",
    "        created = [b + self.linker + x for b in bp_14 for x in bp_30]\n",
    "        return created\n",
    "\n",
    "    def count_bc14(self):\n",
    "        \"\"\"\n",
    "        The function counts the number of times each barcode is found in the trimmed_forward file\n",
    "\n",
    "        :return: A dictionary with the barcode as the key and the number of reads as the value.\n",
    "        \"\"\"\n",
    "        bp_14 = self.fasta_reader(self.bc14)\n",
    "        reads = [a[:14] for a in self.fasta_reader(self.trimmed_forward)]\n",
    "\n",
    "        counts = {}\n",
    "        for bc in bp_14:\n",
    "            counts[bc] = reads.count(bc)\n",
    "        return counts\n",
    "\n",
    "    def count_bc30(self):\n",
    "        \"\"\"\n",
    "        The function counts the number of times each barcode is found in the trimmed_forward file\n",
    "\n",
    "        :return: A dictionary with the barcode as the key and the number of reads as the value.\n",
    "        \"\"\"\n",
    "        bp_30 = self.fasta_reader(self.bc30)\n",
    "        reads = [a[-30:] for a in self.fasta_reader(self.trimmed_forward)]\n",
    "\n",
    "        counts = {}\n",
    "        for bc in bp_30:\n",
    "            counts[bc] = reads.count(bc)\n",
    "        return counts\n",
    "\n",
    "    def count_barcodes(self):\n",
    "        \"\"\"\n",
    "        The function counts the number of times each barcode appears in the trimmed_forward file\n",
    "        \n",
    "        :return: A dictionary with the barcode as the key and the number of reads as the value.\n",
    "        \"\"\"\n",
    "        barcodes = self.barcode_creater()\n",
    "        reads = self.fasta_reader(self.trimmed_forward)\n",
    "\n",
    "        counts = {}\n",
    "        for barcode in barcodes:\n",
    "            counts[barcode] = reads.count(barcode)\n",
    "        return counts\n",
    "    "
   ]
  },
  {
   "cell_type": "code",
   "execution_count": 47,
   "metadata": {},
   "outputs": [],
   "source": [
    "args = {\n",
    "    'trimmed_forward':'/mnt/c/Users/pc/Downloads/barcod/qc_processed_barcode_1/trimmed_forward.fasta',\n",
    "    'trimmed_reverse': '/mnt/c/Users/pc/Downloads/barcod/qc_processed_barcode_1/trimmed_reverse.fasta',\n",
    "    'bc14': '/mnt/c/Users/pc/Downloads/barcod/qc_processed_barcode_1/b14.fasta',\n",
    "    'bc30':'/mnt/c/Users/pc/Downloads/barcod/qc_processed_barcode_1/b30.fasta'\n",
    "}\n",
    "\n",
    "result = BarcodeCounter(**args)"
   ]
  },
  {
   "cell_type": "code",
   "execution_count": 48,
   "metadata": {},
   "outputs": [
    {
     "data": {
      "text/plain": [
       "{'GTTTAGATATACAC': 124656,\n",
       " 'TAACTTCGCCTGCT': 350912,\n",
       " 'ATCCCCAAAGAGGA': 135381,\n",
       " 'TCATATCAGCCGTC': 111048,\n",
       " 'AGGTGTCCGGTATG': 85648,\n",
       " 'ATATGTTCTGGCAT': 399719,\n",
       " 'ACACGCAGGAAACT': 73266,\n",
       " 'GAGTTGTAAGAGAC': 89211,\n",
       " 'AGCAGAAAAGTTCG': 1448,\n",
       " 'ATTATTCTGCGCCT': 196193}"
      ]
     },
     "execution_count": 48,
     "metadata": {},
     "output_type": "execute_result"
    }
   ],
   "source": [
    "result.count_bc14()"
   ]
  },
  {
   "cell_type": "code",
   "execution_count": 49,
   "metadata": {},
   "outputs": [],
   "source": [
    "result.count_bc30()"
   ]
  }
 ],
 "metadata": {
  "interpreter": {
   "hash": "916dbcbb3f70747c44a77c7bcd40155683ae19c65e1c03b4aa3499c5328201f1"
  },
  "kernelspec": {
   "display_name": "Python 3.8.10 64-bit",
   "language": "python",
   "name": "python3"
  },
  "language_info": {
   "codemirror_mode": {
    "name": "ipython",
    "version": 3
   },
   "file_extension": ".py",
   "mimetype": "text/x-python",
   "name": "python",
   "nbconvert_exporter": "python",
   "pygments_lexer": "ipython3",
   "version": "3.8.10"
  },
  "orig_nbformat": 4
 },
 "nbformat": 4,
 "nbformat_minor": 2
}
