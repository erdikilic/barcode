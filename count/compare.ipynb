{
 "cells": [
  {
   "cell_type": "code",
   "execution_count": 1,
   "metadata": {},
   "outputs": [],
   "source": [
    "import json"
   ]
  },
  {
   "cell_type": "code",
   "execution_count": 2,
   "metadata": {},
   "outputs": [],
   "source": [
    "def json_reader(file):\n",
    "    \"\"\"\n",
    "    Reads a json file and returns the data as a dictionary\n",
    "    \n",
    "    :param file: the file to be read\n",
    "    :return: A dictionary\n",
    "    \"\"\"\n",
    "    with open(file, 'r') as json_file:\n",
    "        x = json.load(json_file)\n",
    "    return x\n",
    "\n",
    "salmon_n70 = json_reader('processed_data/salmon_barcode_counts_n70.json')\n",
    "salmon_n71 = json_reader('processed_data/salmon_barcode_counts_n71.json')\n",
    "salmon_n72 = json_reader('processed_data/salmon_barcode_counts_n72.json')\n",
    "\n",
    "n70 = json_reader('processed_data/barcode_counts_n70.json')\n",
    "n71 = json_reader('processed_data/barcode_counts_n71.json')\n",
    "n72 = json_reader('processed_data/barcode_counts_n72.json')"
   ]
  },
  {
   "cell_type": "code",
   "execution_count": 3,
   "metadata": {},
   "outputs": [],
   "source": [
    "def simple_similarity(first_file, second_file, threshold_value, threshold=True):\n",
    "    \"\"\"\n",
    "    The function takes two files and a threshold as input. \n",
    "    It returns the percentage of similarity between the two files\n",
    "    \n",
    "    :param first_file: The first file you want to compare\n",
    "    :param second_file: the second file to compare to the first file\n",
    "    :param threshold: The threshold for similarity\n",
    "    :return: The similarity: %\n",
    "    \"\"\"\n",
    "\n",
    "    def set_threshold():\n",
    "        n = 0\n",
    "        for  i in list(first_file.values()):\n",
    "            if i >= threshold_value:\n",
    "                n += 1\n",
    "        return n\n",
    "\n",
    "    if threshold:\n",
    "        n = set_threshold()\n",
    "    else:\n",
    "        n = threshold_value\n",
    "     \n",
    "    first_n = list(first_file.keys())[:n]\n",
    "    second_n = list(second_file.keys())[:n]\n",
    "\n",
    "    count = 0\n",
    "    for i in first_n:\n",
    "        if i in second_n:\n",
    "            count += 1\n",
    "\n",
    "    percent = count / (len(first_n)) * 100\n",
    "\n",
    "    return  'There are {a:d} barocodes greater than the threshold {b:d} and the similarty is {c:.2f}%'.format(a= n, b= threshold_value, c= percent)"
   ]
  },
  {
   "cell_type": "code",
   "execution_count": 4,
   "metadata": {},
   "outputs": [
    {
     "data": {
      "text/plain": [
       "'There are 3786 barocodes greater than the threshold 250 and the similarty is 96.80%'"
      ]
     },
     "execution_count": 4,
     "metadata": {},
     "output_type": "execute_result"
    }
   ],
   "source": [
    "simple_similarity(n70, salmon_n70, 250)"
   ]
  },
  {
   "cell_type": "code",
   "execution_count": 5,
   "metadata": {},
   "outputs": [
    {
     "data": {
      "text/plain": [
       "'There are 26 barocodes greater than the threshold 50 and the similarty is 100.00%'"
      ]
     },
     "execution_count": 5,
     "metadata": {},
     "output_type": "execute_result"
    }
   ],
   "source": [
    "simple_similarity(n71, salmon_n71, 50)"
   ]
  },
  {
   "cell_type": "code",
   "execution_count": 6,
   "metadata": {},
   "outputs": [
    {
     "data": {
      "text/plain": [
       "'There are 691 barocodes greater than the threshold 250 and the similarty is 97.97%'"
      ]
     },
     "execution_count": 6,
     "metadata": {},
     "output_type": "execute_result"
    }
   ],
   "source": [
    "simple_similarity(n72, salmon_n72, 250)"
   ]
  }
 ],
 "metadata": {
  "interpreter": {
   "hash": "916dbcbb3f70747c44a77c7bcd40155683ae19c65e1c03b4aa3499c5328201f1"
  },
  "kernelspec": {
   "display_name": "Python 3.8.10 64-bit",
   "language": "python",
   "name": "python3"
  },
  "language_info": {
   "codemirror_mode": {
    "name": "ipython",
    "version": 3
   },
   "file_extension": ".py",
   "mimetype": "text/x-python",
   "name": "python",
   "nbconvert_exporter": "python",
   "pygments_lexer": "ipython3",
   "version": "3.8.10"
  },
  "orig_nbformat": 4
 },
 "nbformat": 4,
 "nbformat_minor": 2
}
