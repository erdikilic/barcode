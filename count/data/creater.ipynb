{
 "cells": [
  {
   "cell_type": "code",
   "execution_count": 1,
   "metadata": {},
   "outputs": [],
   "source": [
    "import pandas as pd \n",
    "\n",
    "from Bio import SeqIO\n",
    "from Bio.Seq import Seq\n",
    "\n",
    "from tqdm import tqdm\n",
    "\n",
    "import json"
   ]
  },
  {
   "cell_type": "code",
   "execution_count": 2,
   "metadata": {},
   "outputs": [],
   "source": [
    "sn70 = '/home/eck/barcode/count/data/salmon_n70.sf'\n",
    "sn71 = '/home/eck/barcode/count/data/salmon_n71.sf'\n",
    "sn72 = '/home/eck/barcode/count/data/salmon_n72.sf'"
   ]
  },
  {
   "cell_type": "code",
   "execution_count": 3,
   "metadata": {},
   "outputs": [],
   "source": [
    "df_n70 = pd.read_table(sn70)\n",
    "df_n71 = pd.read_table(sn71)\n",
    "df_n72 = pd.read_table(sn72)"
   ]
  },
  {
   "cell_type": "code",
   "execution_count": 6,
   "metadata": {},
   "outputs": [],
   "source": [
    "def fasta_reader(fasta):\n",
    "    \"\"\"\n",
    "    Reads a fasta file and returns a list of sequences\n",
    "    \n",
    "    :param fasta: the fasta file containing the sequences\n",
    "    :return: A list of sequences.\n",
    "    \"\"\"\n",
    "    n = []\n",
    "    for record in SeqIO.parse(fasta , \"fasta\"):\n",
    "        n.append(str(record.seq))\n",
    "    return n\n",
    "\n",
    "barcodes = fasta_reader('/mnt/c/Users/pc/Downloads/barcod/qc_processed_barcode_1/barcode.fasta')"
   ]
  },
  {
   "cell_type": "code",
   "execution_count": 18,
   "metadata": {},
   "outputs": [],
   "source": [
    "df_n70['Barcodes'] = barcodes\n",
    "df_n71['Barcodes'] = barcodes\n",
    "df_n72['Barcodes'] = barcodes"
   ]
  },
  {
   "cell_type": "code",
   "execution_count": 12,
   "metadata": {},
   "outputs": [
    {
     "data": {
      "text/html": [
       "<div>\n",
       "<style scoped>\n",
       "    .dataframe tbody tr th:only-of-type {\n",
       "        vertical-align: middle;\n",
       "    }\n",
       "\n",
       "    .dataframe tbody tr th {\n",
       "        vertical-align: top;\n",
       "    }\n",
       "\n",
       "    .dataframe thead th {\n",
       "        text-align: right;\n",
       "    }\n",
       "</style>\n",
       "<table border=\"1\" class=\"dataframe\">\n",
       "  <thead>\n",
       "    <tr style=\"text-align: right;\">\n",
       "      <th></th>\n",
       "      <th>Name</th>\n",
       "      <th>Length</th>\n",
       "      <th>EffectiveLength</th>\n",
       "      <th>TPM</th>\n",
       "      <th>NumReads</th>\n",
       "      <th>Barcodes</th>\n",
       "    </tr>\n",
       "  </thead>\n",
       "  <tbody>\n",
       "    <tr>\n",
       "      <th>0</th>\n",
       "      <td>1</td>\n",
       "      <td>48</td>\n",
       "      <td>48.0</td>\n",
       "      <td>0.0</td>\n",
       "      <td>0.0</td>\n",
       "      <td>GTTTAGATATACACTGGTTGACACACACACACACACACACTGACCATG</td>\n",
       "    </tr>\n",
       "    <tr>\n",
       "      <th>1</th>\n",
       "      <td>2</td>\n",
       "      <td>48</td>\n",
       "      <td>48.0</td>\n",
       "      <td>0.0</td>\n",
       "      <td>0.0</td>\n",
       "      <td>GTTTAGATATACACTGGTTGACACACACTGACTGACTGACTGACACCA</td>\n",
       "    </tr>\n",
       "    <tr>\n",
       "      <th>2</th>\n",
       "      <td>3</td>\n",
       "      <td>48</td>\n",
       "      <td>48.0</td>\n",
       "      <td>0.0</td>\n",
       "      <td>0.0</td>\n",
       "      <td>GTTTAGATATACACTGGTTGACACCAACTGACACACACACGTACTGAC</td>\n",
       "    </tr>\n",
       "    <tr>\n",
       "      <th>3</th>\n",
       "      <td>4</td>\n",
       "      <td>48</td>\n",
       "      <td>48.0</td>\n",
       "      <td>0.0</td>\n",
       "      <td>0.0</td>\n",
       "      <td>GTTTAGATATACACTGGTTGTGACACACGTACACACCAACCAACTGAC</td>\n",
       "    </tr>\n",
       "    <tr>\n",
       "      <th>4</th>\n",
       "      <td>5</td>\n",
       "      <td>48</td>\n",
       "      <td>48.0</td>\n",
       "      <td>0.0</td>\n",
       "      <td>0.0</td>\n",
       "      <td>GTTTAGATATACACTGGTTGTGACGTACCAACTGACTGACGTACACTG</td>\n",
       "    </tr>\n",
       "  </tbody>\n",
       "</table>\n",
       "</div>"
      ],
      "text/plain": [
       "   Name  Length  EffectiveLength  TPM  NumReads  \\\n",
       "0     1      48             48.0  0.0       0.0   \n",
       "1     2      48             48.0  0.0       0.0   \n",
       "2     3      48             48.0  0.0       0.0   \n",
       "3     4      48             48.0  0.0       0.0   \n",
       "4     5      48             48.0  0.0       0.0   \n",
       "\n",
       "                                           Barcodes  \n",
       "0  GTTTAGATATACACTGGTTGACACACACACACACACACACTGACCATG  \n",
       "1  GTTTAGATATACACTGGTTGACACACACTGACTGACTGACTGACACCA  \n",
       "2  GTTTAGATATACACTGGTTGACACCAACTGACACACACACGTACTGAC  \n",
       "3  GTTTAGATATACACTGGTTGTGACACACGTACACACCAACCAACTGAC  \n",
       "4  GTTTAGATATACACTGGTTGTGACGTACCAACTGACTGACGTACACTG  "
      ]
     },
     "execution_count": 12,
     "metadata": {},
     "output_type": "execute_result"
    }
   ],
   "source": [
    "df_n70.head()"
   ]
  },
  {
   "cell_type": "code",
   "execution_count": 86,
   "metadata": {},
   "outputs": [],
   "source": [
    "counts_n70 = dict(zip(df_n70['Barcodes'], df_n70['NumReads']))\n",
    "counts_n70x = {k: v for k, v in sorted(counts_n70.items(), key=lambda item: item[1], reverse= True)}\n",
    "\n",
    "with open('salmon_barcode_counts_n70.json', 'w') as fp:\n",
    "    json.dump(counts_n70x, fp)"
   ]
  },
  {
   "cell_type": "code",
   "execution_count": 87,
   "metadata": {},
   "outputs": [],
   "source": [
    "counts_n71 = dict(zip(df_n71['Barcodes'], df_n71['NumReads']))\n",
    "counts_n71x = {k: v for k, v in sorted(counts_n71.items(), key=lambda item: item[1], reverse= True)}\n",
    "\n",
    "with open('salmon_barcode_counts_n71.json', 'w') as fp:\n",
    "    json.dump(counts_n71x, fp)"
   ]
  },
  {
   "cell_type": "code",
   "execution_count": 88,
   "metadata": {},
   "outputs": [],
   "source": [
    "counts_n72 = dict(zip(df_n72['Barcodes'], df_n72['NumReads']))\n",
    "counts_n72x = {k: v for k, v in sorted(counts_n72.items(), key=lambda item: item[1], reverse= True)}\n",
    "\n",
    "with open('salmon_barcode_counts_n72.json', 'w') as fp:\n",
    "    json.dump(counts_n72x, fp)"
   ]
  },
  {
   "cell_type": "code",
   "execution_count": 30,
   "metadata": {},
   "outputs": [],
   "source": [
    "def json_reader(file):\n",
    "    with open(file, 'r') as fp:\n",
    "        x = json.load(fp)\n",
    "    return x\n",
    "\n",
    "\n",
    "fn70 = json_reader('/home/eck/barcode/count/data/forward_barcode_counts_n70.json')\n",
    "fn71 = json_reader('/home/eck/barcode/count/data/forward_barcode_counts_n71.json')\n",
    "fn72 = json_reader('/home/eck/barcode/count/data/forward_barcode_counts_n72.json')\n",
    "\n",
    "rn70 = json_reader('/home/eck/barcode/count/data/reverse_barcode_counts_n70.json')\n",
    "rn71 = json_reader('/home/eck/barcode/count/data/reverse_barcode_counts_n71.json')\n",
    "rn72 = json_reader('/home/eck/barcode/count/data/reverse_barcode_counts_n72.json')"
   ]
  },
  {
   "cell_type": "code",
   "execution_count": 70,
   "metadata": {},
   "outputs": [],
   "source": [
    "sumn70 = {k: fn70.get(k, 0) + rn70.get(k, 0) for k in set(fn70) | set(rn70)}"
   ]
  },
  {
   "cell_type": "code",
   "execution_count": 74,
   "metadata": {},
   "outputs": [],
   "source": [
    "sortedn70 = {k: v for k, v in sorted(sumn70.items(), key=lambda item: item[1], reverse= True)}"
   ]
  },
  {
   "cell_type": "code",
   "execution_count": 76,
   "metadata": {},
   "outputs": [],
   "source": [
    "sumn71 = {k: fn71.get(k, 0) + rn71.get(k, 0) for k in set(fn71) | set(rn71)}"
   ]
  },
  {
   "cell_type": "code",
   "execution_count": 77,
   "metadata": {},
   "outputs": [],
   "source": [
    "sortedn71 = {k: v for k, v in sorted(sumn71.items(), key=lambda item: item[1], reverse= True)}"
   ]
  },
  {
   "cell_type": "code",
   "execution_count": 78,
   "metadata": {},
   "outputs": [],
   "source": [
    "sumn72 = {k: fn72.get(k, 0) + rn72.get(k, 0) for k in set(fn72) | set(rn72)}"
   ]
  },
  {
   "cell_type": "code",
   "execution_count": 79,
   "metadata": {},
   "outputs": [],
   "source": [
    "sortedn72 = {k: v for k, v in sorted(sumn72.items(), key=lambda item: item[1], reverse= True)}"
   ]
  },
  {
   "cell_type": "code",
   "execution_count": 82,
   "metadata": {},
   "outputs": [],
   "source": [
    "with open('barcode_counts_n70.json', 'w') as fp:\n",
    "    json.dump(sortedn70, fp)"
   ]
  },
  {
   "cell_type": "code",
   "execution_count": 83,
   "metadata": {},
   "outputs": [],
   "source": [
    "with open('barcode_counts_n71.json', 'w') as fp:\n",
    "    json.dump(sortedn71, fp)"
   ]
  },
  {
   "cell_type": "code",
   "execution_count": 84,
   "metadata": {},
   "outputs": [],
   "source": [
    "with open('barcode_counts_n72.json', 'w') as fp:\n",
    "    json.dump(sortedn72, fp)"
   ]
  },
  {
   "cell_type": "code",
   "execution_count": null,
   "metadata": {},
   "outputs": [],
   "source": []
  }
 ],
 "metadata": {
  "interpreter": {
   "hash": "916dbcbb3f70747c44a77c7bcd40155683ae19c65e1c03b4aa3499c5328201f1"
  },
  "kernelspec": {
   "display_name": "Python 3.8.10 64-bit",
   "language": "python",
   "name": "python3"
  },
  "language_info": {
   "codemirror_mode": {
    "name": "ipython",
    "version": 3
   },
   "file_extension": ".py",
   "mimetype": "text/x-python",
   "name": "python",
   "nbconvert_exporter": "python",
   "pygments_lexer": "ipython3",
   "version": "3.8.10"
  },
  "orig_nbformat": 4
 },
 "nbformat": 4,
 "nbformat_minor": 2
}
