{
 "cells": [
  {
   "cell_type": "code",
   "execution_count": 1,
   "metadata": {},
   "outputs": [],
   "source": [
    "from Bio import SeqIO\n",
    "from Bio.Seq import Seq\n",
    "\n",
    "from tqdm import tqdm\n",
    "\n",
    "import json"
   ]
  },
  {
   "cell_type": "code",
   "execution_count": 2,
   "metadata": {},
   "outputs": [],
   "source": [
    "trimmed_forward = '/mnt/c/Users/pc/Downloads/barcod/qc_processed_barcode_1/trimmed_forward.fasta'\n",
    "trimmed_reverse = '/mnt/c/Users/pc/Downloads/barcod/qc_processed_barcode_1/trimmed_reverse.fasta'\n",
    "bc14 = '/mnt/c/Users/pc/Downloads/barcod/qc_processed_barcode_1/b14.fasta'\n",
    "bc30 = '/mnt/c/Users/pc/Downloads/barcod/qc_processed_barcode_1/b30.fasta'"
   ]
  },
  {
   "cell_type": "code",
   "execution_count": 3,
   "metadata": {},
   "outputs": [],
   "source": [
    "def fasta_reader(fasta):\n",
    "    \"\"\"\n",
    "    Reads a fasta file and returns a list of sequences\n",
    "    \n",
    "    :param fasta: the fasta file containing the sequences\n",
    "    :return: A list of sequences.\n",
    "    \"\"\"\n",
    "    n = []\n",
    "    for record in SeqIO.parse(fasta , \"fasta\"):\n",
    "        n.append(str(record.seq))\n",
    "    return n"
   ]
  },
  {
   "cell_type": "code",
   "execution_count": 4,
   "metadata": {},
   "outputs": [],
   "source": [
    "reversed_fasta = fasta_reader(trimmed_reverse)\n",
    "forward_fasta = fasta_reader(trimmed_forward)\n",
    "bp_14 = fasta_reader(bc14)\n",
    "bp_30 = fasta_reader(bc30)"
   ]
  },
  {
   "cell_type": "code",
   "execution_count": 5,
   "metadata": {},
   "outputs": [],
   "source": [
    "def reverse_fix():\n",
    "    \"\"\"\n",
    "    Reads a reverse fasta file and returns a list of complemented seqeunce\n",
    "\n",
    "    :return: A list of the reverse complement of the trimmed reads.\n",
    "    \"\"\"\n",
    "\n",
    "    corrected = []\n",
    "    for reads in reversed_fasta:\n",
    "        corrected.append(str(Seq(reads).complement()))\n",
    "    return corrected"
   ]
  },
  {
   "cell_type": "code",
   "execution_count": 6,
   "metadata": {},
   "outputs": [],
   "source": [
    "def merger():\n",
    "    \"\"\"\n",
    "    The function takes the trimmed forward and reverse reads and merges them into one list\n",
    "\n",
    "    :return: A list of tuples.\n",
    "    \"\"\"\n",
    "        \n",
    "    merged = [*forward_fasta, *reversed_fasta]\n",
    "    return merged"
   ]
  },
  {
   "cell_type": "code",
   "execution_count": 7,
   "metadata": {},
   "outputs": [],
   "source": [
    "def barcode_creater():\n",
    "    \"\"\"\n",
    "    The function takes in two barcodes and concatenates them with the linker sequence\n",
    "    Creates 48 bp barcodes\n",
    "\n",
    "    :return: A list of barcodes with the linker sequence added to the end of each\n",
    "    \"\"\"\n",
    "\n",
    "    created = [b + 'TGGT' + x for b in bp_14 for x in bp_30]\n",
    "    return created\n",
    "\n",
    "barcodes = barcode_creater()"
   ]
  },
  {
   "cell_type": "code",
   "execution_count": 8,
   "metadata": {},
   "outputs": [
    {
     "name": "stderr",
     "output_type": "stream",
     "text": [
      "100%|██████████| 10/10 [00:00<00:00, 36.88it/s]\n"
     ]
    }
   ],
   "source": [
    "def count_bc14():\n",
    "    \"\"\"\n",
    "    The function counts the number of times each 14-bp sequence occurs in the forward reads.\n",
    "\n",
    "    :return: A dictionary with the barcode as the key and the number of reads as the value.\n",
    "    \"\"\"\n",
    "    reads = [a[:14] for a in forward_fasta]\n",
    "\n",
    "    counts = {}\n",
    "    for bc in tqdm(bp_14):\n",
    "        counts[bc] = reads.count(bc)\n",
    "\n",
    "    with open('b14_counts.json', 'w') as fp:\n",
    "        json.dump(counts, fp)\n",
    "\n",
    "count_bc14()"
   ]
  },
  {
   "cell_type": "code",
   "execution_count": 9,
   "metadata": {},
   "outputs": [
    {
     "name": "stderr",
     "output_type": "stream",
     "text": [
      "100%|██████████| 100000/100000 [48:30<00:00, 34.36it/s] \n"
     ]
    }
   ],
   "source": [
    "def count_bc30():\n",
    "    \"\"\"\n",
    "    The function counts the number of times each 30-bp sequence occurs in the forward reads.\n",
    "\n",
    "    :return: A dictionary with the barcode as the key and the number of reads as the value.\n",
    "    \"\"\"\n",
    "    reads = [a[-30:] for a in forward_fasta]\n",
    "\n",
    "    counts = {}\n",
    "    for bc in tqdm(bp_30):\n",
    "        counts[bc] = reads.count(bc)\n",
    "\n",
    "    with open('bc30_counts.json', 'w') as fp:\n",
    "        json.dump(counts, fp)\n",
    "\n",
    "count_bc30()"
   ]
  },
  {
   "cell_type": "code",
   "execution_count": 10,
   "metadata": {},
   "outputs": [
    {
     "name": "stderr",
     "output_type": "stream",
     "text": [
      "  0%|          | 755/1000000 [00:27<10:12:06, 27.21it/s]\n"
     ]
    },
    {
     "ename": "KeyboardInterrupt",
     "evalue": "",
     "output_type": "error",
     "traceback": [
      "\u001b[0;31m---------------------------------------------------------------------------\u001b[0m",
      "\u001b[0;31mKeyboardInterrupt\u001b[0m                         Traceback (most recent call last)",
      "\u001b[1;32m/home/eck/Barcode/count/barcode_counter_steps.ipynb Cell 10'\u001b[0m in \u001b[0;36m<module>\u001b[0;34m\u001b[0m\n\u001b[1;32m     <a href='vscode-notebook-cell://wsl%2Bubuntu-20.04/home/eck/Barcode/count/barcode_counter_steps.ipynb#ch0000009vscode-remote?line=12'>13</a>\u001b[0m     \u001b[39mwith\u001b[39;00m \u001b[39mopen\u001b[39m(\u001b[39m'\u001b[39m\u001b[39mbarcode_counts.json\u001b[39m\u001b[39m'\u001b[39m, \u001b[39m'\u001b[39m\u001b[39mw\u001b[39m\u001b[39m'\u001b[39m) \u001b[39mas\u001b[39;00m fp: \n\u001b[1;32m     <a href='vscode-notebook-cell://wsl%2Bubuntu-20.04/home/eck/Barcode/count/barcode_counter_steps.ipynb#ch0000009vscode-remote?line=13'>14</a>\u001b[0m         json\u001b[39m.\u001b[39mdump(counts, fp)\n\u001b[0;32m---> <a href='vscode-notebook-cell://wsl%2Bubuntu-20.04/home/eck/Barcode/count/barcode_counter_steps.ipynb#ch0000009vscode-remote?line=15'>16</a>\u001b[0m count_barcodes()\n",
      "\u001b[1;32m/home/eck/Barcode/count/barcode_counter_steps.ipynb Cell 10'\u001b[0m in \u001b[0;36mcount_barcodes\u001b[0;34m()\u001b[0m\n\u001b[1;32m      <a href='vscode-notebook-cell://wsl%2Bubuntu-20.04/home/eck/Barcode/count/barcode_counter_steps.ipynb#ch0000009vscode-remote?line=8'>9</a>\u001b[0m counts \u001b[39m=\u001b[39m {}\n\u001b[1;32m     <a href='vscode-notebook-cell://wsl%2Bubuntu-20.04/home/eck/Barcode/count/barcode_counter_steps.ipynb#ch0000009vscode-remote?line=9'>10</a>\u001b[0m \u001b[39mfor\u001b[39;00m barcode \u001b[39min\u001b[39;00m tqdm(barcodes):\n\u001b[0;32m---> <a href='vscode-notebook-cell://wsl%2Bubuntu-20.04/home/eck/Barcode/count/barcode_counter_steps.ipynb#ch0000009vscode-remote?line=10'>11</a>\u001b[0m     counts[barcode] \u001b[39m=\u001b[39m reads\u001b[39m.\u001b[39;49mcount(barcode)\n\u001b[1;32m     <a href='vscode-notebook-cell://wsl%2Bubuntu-20.04/home/eck/Barcode/count/barcode_counter_steps.ipynb#ch0000009vscode-remote?line=12'>13</a>\u001b[0m \u001b[39mwith\u001b[39;00m \u001b[39mopen\u001b[39m(\u001b[39m'\u001b[39m\u001b[39mbarcode_counts.json\u001b[39m\u001b[39m'\u001b[39m, \u001b[39m'\u001b[39m\u001b[39mw\u001b[39m\u001b[39m'\u001b[39m) \u001b[39mas\u001b[39;00m fp: \n\u001b[1;32m     <a href='vscode-notebook-cell://wsl%2Bubuntu-20.04/home/eck/Barcode/count/barcode_counter_steps.ipynb#ch0000009vscode-remote?line=13'>14</a>\u001b[0m     json\u001b[39m.\u001b[39mdump(counts, fp)\n",
      "\u001b[0;31mKeyboardInterrupt\u001b[0m: "
     ]
    }
   ],
   "source": [
    "def count_barcodes():\n",
    "    \"\"\"\n",
    "    The function counts the number of times all sequence occurs in the forward reads.\n",
    "\n",
    "    :return: A dictionary with the barcode as the key and the number of reads as the value.\n",
    "    \"\"\"\n",
    "    reads = forward_fasta\n",
    "\n",
    "    counts = {}\n",
    "    for barcode in tqdm(barcodes):\n",
    "        counts[barcode] = reads.count(barcode)\n",
    "    \n",
    "    with open('barcode_counts.json', 'w') as fp: \n",
    "        json.dump(counts, fp)\n",
    "\n",
    "count_barcodes()"
   ]
  }
 ],
 "metadata": {
  "interpreter": {
   "hash": "916dbcbb3f70747c44a77c7bcd40155683ae19c65e1c03b4aa3499c5328201f1"
  },
  "kernelspec": {
   "display_name": "Python 3.8.10 64-bit",
   "language": "python",
   "name": "python3"
  },
  "language_info": {
   "codemirror_mode": {
    "name": "ipython",
    "version": 3
   },
   "file_extension": ".py",
   "mimetype": "text/x-python",
   "name": "python",
   "nbconvert_exporter": "python",
   "pygments_lexer": "ipython3",
   "version": "3.8.10"
  },
  "orig_nbformat": 4
 },
 "nbformat": 4,
 "nbformat_minor": 2
}
