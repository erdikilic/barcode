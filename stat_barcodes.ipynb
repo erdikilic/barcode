{
 "cells": [
  {
   "cell_type": "code",
   "execution_count": 1,
   "metadata": {},
   "outputs": [],
   "source": [
    "import json\n",
    "import math"
   ]
  },
  {
   "cell_type": "code",
   "execution_count": 42,
   "metadata": {},
   "outputs": [],
   "source": [
    "def read_json(json_file):\n",
    "    with open(json_file, 'r') as f:\n",
    "        data = json.load(f)\n",
    "    return data\n",
    "\n",
    "def shannon_index(json_file):\n",
    "    data = read_json(json_file)\n",
    "    # filter dictiory values greater than 0\n",
    "    data = {k: v for k, v in data.items() if v > 0}\n",
    "    print(len(data))\n",
    "    all_sum = sum(data.values())\n",
    "    # calculate shannon index\n",
    "    shannon_index = 0\n",
    "    for k, v in data.items():\n",
    "        shannon_index += - (v/all_sum) * math.log((v/all_sum), math.e)\n",
    "\n",
    "    evenness = shannon_index / math.log(len(data), math.e)\n",
    "    expected_barcode_count = all_sum / len(data)\n",
    "\n",
    "    return f\"shannon_index: {shannon_index:.2f} evenness: {evenness:.2f} expected_value: {expected_barcode_count:.2f}\""
   ]
  },
  {
   "cell_type": "code",
   "execution_count": 43,
   "metadata": {},
   "outputs": [
    {
     "name": "stdout",
     "output_type": "stream",
     "text": [
      "11798\n"
     ]
    },
    {
     "data": {
      "text/plain": [
       "'shannon_index: 8.80 evenness: 0.94 expected_value: 199.63'"
      ]
     },
     "execution_count": 43,
     "metadata": {},
     "output_type": "execute_result"
    }
   ],
   "source": [
    "shannon_index(\"count/processed_data/barcode_counts_n70.json\")"
   ]
  },
  {
   "cell_type": "code",
   "execution_count": 44,
   "metadata": {},
   "outputs": [
    {
     "name": "stdout",
     "output_type": "stream",
     "text": [
      "369\n"
     ]
    },
    {
     "data": {
      "text/plain": [
       "'shannon_index: 2.08 evenness: 0.35 expected_value: 4524.66'"
      ]
     },
     "execution_count": 44,
     "metadata": {},
     "output_type": "execute_result"
    }
   ],
   "source": [
    "shannon_index(\"count/processed_data/barcode_counts_n71.json\")"
   ]
  },
  {
   "cell_type": "code",
   "execution_count": 45,
   "metadata": {},
   "outputs": [
    {
     "name": "stdout",
     "output_type": "stream",
     "text": [
      "1531\n"
     ]
    },
    {
     "data": {
      "text/plain": [
       "'shannon_index: 5.46 evenness: 0.75 expected_value: 1880.03'"
      ]
     },
     "execution_count": 45,
     "metadata": {},
     "output_type": "execute_result"
    }
   ],
   "source": [
    "shannon_index(\"count/processed_data/barcode_counts_n72.json\")"
   ]
  },
  {
   "cell_type": "code",
   "execution_count": null,
   "metadata": {},
   "outputs": [],
   "source": []
  }
 ],
 "metadata": {
  "kernelspec": {
   "display_name": "Python 3.8.10 64-bit",
   "language": "python",
   "name": "python3"
  },
  "language_info": {
   "codemirror_mode": {
    "name": "ipython",
    "version": 3
   },
   "file_extension": ".py",
   "mimetype": "text/x-python",
   "name": "python",
   "nbconvert_exporter": "python",
   "pygments_lexer": "ipython3",
   "version": "3.8.10"
  },
  "orig_nbformat": 4,
  "vscode": {
   "interpreter": {
    "hash": "916dbcbb3f70747c44a77c7bcd40155683ae19c65e1c03b4aa3499c5328201f1"
   }
  }
 },
 "nbformat": 4,
 "nbformat_minor": 2
}
