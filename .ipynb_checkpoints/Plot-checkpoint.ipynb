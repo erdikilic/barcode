{
 "cells": [
  {
   "cell_type": "code",
   "execution_count": 21,
   "id": "f45ed37b",
   "metadata": {},
   "outputs": [],
   "source": [
    "import os\n",
    "import json"
   ]
  },
  {
   "cell_type": "code",
   "execution_count": 11,
   "id": "68526b9a",
   "metadata": {},
   "outputs": [],
   "source": [
    "files = os.listdir('/mnt/c/Users/pc/Downloads/qc_processed_barcode_1/N70_r1_qc_processed/Reads/')\n",
    "path = '/mnt/c/Users/pc/Downloads/qc_processed_barcode_1/N70_r1_qc_processed/Reads/'"
   ]
  },
  {
   "cell_type": "code",
   "execution_count": 12,
   "id": "514e7827",
   "metadata": {},
   "outputs": [
    {
     "data": {
      "text/plain": [
       "'bc14-001_10000.txt'"
      ]
     },
     "execution_count": 12,
     "metadata": {},
     "output_type": "execute_result"
    }
   ],
   "source": [
    "files[0]"
   ]
  },
  {
   "cell_type": "code",
   "execution_count": 30,
   "id": "bac747ea",
   "metadata": {},
   "outputs": [],
   "source": [
    "reader = open(path + files[0], 'r').read()"
   ]
  },
  {
   "cell_type": "code",
   "execution_count": 35,
   "id": "dfd0df52",
   "metadata": {},
   "outputs": [
    {
     "data": {
      "text/plain": [
       "dict"
      ]
     },
     "execution_count": 35,
     "metadata": {},
     "output_type": "execute_result"
    }
   ],
   "source": [
    "file = eval(reader)"
   ]
  },
  {
   "cell_type": "code",
   "execution_count": 37,
   "id": "227c39fd",
   "metadata": {},
   "outputs": [
    {
     "ename": "TypeError",
     "evalue": "eval() arg 1 must be a string, bytes or code object",
     "output_type": "error",
     "traceback": [
      "\u001b[0;31m---------------------------------------------------------------------------\u001b[0m",
      "\u001b[0;31mTypeError\u001b[0m                                 Traceback (most recent call last)",
      "Input \u001b[0;32mIn [37]\u001b[0m, in \u001b[0;36m<module>\u001b[0;34m\u001b[0m\n\u001b[1;32m      1\u001b[0m \u001b[38;5;28;01mwith\u001b[39;00m \u001b[38;5;28mopen\u001b[39m(path \u001b[38;5;241m+\u001b[39m files[\u001b[38;5;241m0\u001b[39m], \u001b[38;5;124m'\u001b[39m\u001b[38;5;124mr\u001b[39m\u001b[38;5;124m'\u001b[39m) \u001b[38;5;28;01mas\u001b[39;00m x:\n\u001b[0;32m----> 2\u001b[0m     \u001b[38;5;28;43meval\u001b[39;49m\u001b[43m(\u001b[49m\u001b[43mx\u001b[49m\u001b[43m)\u001b[49m\n",
      "\u001b[0;31mTypeError\u001b[0m: eval() arg 1 must be a string, bytes or code object"
     ]
    }
   ],
   "source": [
    "with open(path + files[0], 'r') as x:\n",
    "    eval(x)"
   ]
  },
  {
   "cell_type": "code",
   "execution_count": null,
   "id": "5e46abd8",
   "metadata": {},
   "outputs": [],
   "source": []
  }
 ],
 "metadata": {
  "kernelspec": {
   "display_name": "Python 3 (ipykernel)",
   "language": "python",
   "name": "python3"
  },
  "language_info": {
   "codemirror_mode": {
    "name": "ipython",
    "version": 3
   },
   "file_extension": ".py",
   "mimetype": "text/x-python",
   "name": "python",
   "nbconvert_exporter": "python",
   "pygments_lexer": "ipython3",
   "version": "3.8.10"
  }
 },
 "nbformat": 4,
 "nbformat_minor": 5
}
